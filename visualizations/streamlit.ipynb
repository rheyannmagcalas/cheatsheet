{
 "cells": [
  {
   "cell_type": "code",
   "execution_count": null,
   "metadata": {},
   "outputs": [],
   "source": [
    "import matplotlib.pyplot as plt\n",
    "import numpy as np\n",
    "import pandas as pd\n",
    "import seaborn as sns\n",
    "import streamlit as st\n",
    "\n",
    "from bokeh.plotting import figure, output_file, show, output_notebook\n",
    "from bokeh.models import ColumnDataSource\n",
    "from bokeh.palettes import Spectral\n",
    "from bokeh.palettes import Spectral6, Magma, Inferno\n",
    "from bokeh.themes import built_in_themes\n",
    "from bokeh.io import curdoc\n",
    "\n",
    "from datetime import date, timedelta\n",
    "from IPython import get_ipython\n",
    "from PIL import Image\n",
    "from streamlit import caching\n",
    "import streamlit.components.v1 as components"
   ]
  },
  {
   "cell_type": "markdown",
   "metadata": {},
   "source": [
    "### Setting Title of the App"
   ]
  },
  {
   "cell_type": "code",
   "execution_count": null,
   "metadata": {},
   "outputs": [],
   "source": [
    "##Embed Spotify Playlist \n",
    "import streamlit.components.v1 as components\n",
    "components.html('<iframe src=\"https://open.spotify.com/embed/playlist/4PNDmI28zbq4GwMqO4Hyd4\" width=\"300\" height=\"380\" frameborder=\"0\" allowtransparency=\"true\" allow=\"encrypted-media\"></iframe>')"
   ]
  },
  {
   "cell_type": "code",
   "execution_count": null,
   "metadata": {},
   "outputs": [],
   "source": [
    "st.header('This is a header')\n",
    "st.subheader('This is a subheader')"
   ]
  },
  {
   "cell_type": "code",
   "execution_count": null,
   "metadata": {},
   "outputs": [],
   "source": []
  },
  {
   "cell_type": "code",
   "execution_count": null,
   "metadata": {},
   "outputs": [],
   "source": [
    "st.text('This is some text.')\n",
    "st.write('This is some text.')"
   ]
  },
  {
   "cell_type": "markdown",
   "metadata": {},
   "source": [
    "### Dataframes"
   ]
  },
  {
   "cell_type": "code",
   "execution_count": null,
   "metadata": {},
   "outputs": [],
   "source": [
    "df = pd.DataFrame(np.random.randn(50, 20), columns=('col %d' % i for i in range(20)))\n",
    "st.dataframe(df)"
   ]
  },
  {
   "cell_type": "code",
   "execution_count": null,
   "metadata": {},
   "outputs": [],
   "source": [
    "df = pd.DataFrame(np.random.randn(5, 5), columns=('col %d' % i for i in range(5)))\n",
    "st.table(df)"
   ]
  },
  {
   "cell_type": "markdown",
   "metadata": {},
   "source": [
    "### Images"
   ]
  },
  {
   "cell_type": "code",
   "execution_count": null,
   "metadata": {},
   "outputs": [],
   "source": [
    "# image = Image.open('logo/eskwelabs.png')\n",
    "# st.sidebar.image(image, caption='', use_column_width=True)\n",
    "components.iframe(\"https://open.spotify.com/playlist/4PNDmI28zbq4GwMqO4Hyd4?si=TVUXev8qQuW628ypgfBmGg\")"
   ]
  },
  {
   "cell_type": "markdown",
   "metadata": {},
   "source": [
    "### Reports"
   ]
  },
  {
   "cell_type": "code",
   "execution_count": null,
   "metadata": {},
   "outputs": [],
   "source": [
    "plt.figure(figsize=(20,10))\n",
    "\n",
    "tips = sns.load_dataset(\"tips\")\n",
    "ax = sns.barplot(x=\"day\", y=\"total_bill\", data=tips)\n",
    "st.pyplot()"
   ]
  },
  {
   "cell_type": "code",
   "execution_count": null,
   "metadata": {},
   "outputs": [],
   "source": [
    "st.set_option('deprecation.showPyplotGlobalUse', False)"
   ]
  },
  {
   "cell_type": "code",
   "execution_count": null,
   "metadata": {},
   "outputs": [],
   "source": [
    "fig, ax = plt.subplots()\n",
    "ax.scatter([1, 2, 3], [1, 2, 3])\n",
    "st.pyplot(fig)"
   ]
  },
  {
   "cell_type": "markdown",
   "metadata": {},
   "source": [
    "### Using Bokeh"
   ]
  },
  {
   "cell_type": "markdown",
   "metadata": {},
   "source": [
    "### Barplot"
   ]
  },
  {
   "cell_type": "code",
   "execution_count": null,
   "metadata": {},
   "outputs": [],
   "source": [
    "caching.clear_cache()\n",
    "source1 = ColumnDataSource(data=dict(column_values=['InvoiceNo', 'StockCode', 'Description', 'Quantity', \n",
    "                                                'InvoiceDate', 'UnitPrice', 'CustomerID', 'Country'], \n",
    "                                 column_null_count=[0, 0, 0, 100, 0, 0, 10000, 0], \n",
    "                                 color=['#35193e', '#35193e', '#701f57','#701f57', '#ad1759', '#e13342', \n",
    "                                        '#f37651', '#f6b48f']))\n",
    "\n",
    "null_plot= figure(x_range=['InvoiceNo', 'StockCode', 'Description', 'Quantity', 'InvoiceDate', 'UnitPrice', \n",
    "                           'CustomerID', 'Country'], plot_height=600, title='Column Null Counts')\n",
    "\n",
    "null_plot.vbar(x='column_values', top='column_null_count', width=0.5, color='color', \n",
    "           legend_field='column_values', source=source1)\n",
    "\n",
    "null_plot.xaxis.axis_label = 'Columns'\n",
    "null_plot.yaxis.axis_label = 'Null Counts'\n",
    "null_plot.xaxis.major_label_orientation = 1.2\n",
    "st.bokeh_chart(null_plot)"
   ]
  },
  {
   "cell_type": "markdown",
   "metadata": {},
   "source": [
    "### Line Chart"
   ]
  },
  {
   "cell_type": "code",
   "execution_count": null,
   "metadata": {},
   "outputs": [],
   "source": [
    "p = figure(plot_width=600, plot_height=300)\n",
    "p.line([2, 3, 4, 5, 6, 7, 8, 9, 10, 11, 12, 13, 14, 15, 16, 17, 18, 19], \n",
    "           [6881.968530629305,5313.478199667941,4443.874408180387,3768.1695746453115,3373.7522363125245,\n",
    "            3059.781169027937,2813.043183722383,2640.4207898996333,2480.861787245848,2315.6257820620967,\n",
    "            2165.7180506392915,2037.9850112053998,1961.0375346160306,1892.507829213857,1823.9033825466,\n",
    "            1755.628369326791,1699.6836724215682, 1637.0241109836584], line_width=2)\n",
    "\n",
    "st.bokeh_chart(p)"
   ]
  },
  {
   "cell_type": "code",
   "execution_count": null,
   "metadata": {},
   "outputs": [],
   "source": [
    "# st.sidebar.markdown(\"<h1 style='text-align: center;margin-bottom:50px'>DS Cohort V</h1>\", unsafe_allow_html=True)\n",
    "\n",
    "\n",
    "add_selectbox = st.sidebar.radio(\n",
    "    \"\",\n",
    "    (\"Sample 1\", \"Sample 2\", \"Sample 3\")\n",
    ")"
   ]
  },
  {
   "cell_type": "code",
   "execution_count": null,
   "metadata": {},
   "outputs": [],
   "source": [
    "if add_selectbox == 'Sample 1':\n",
    "    st.write('Sample')\n",
    "elif add_selectbox == 'Sample 2':\n",
    "    st.write('Sample 2')"
   ]
  },
  {
   "cell_type": "markdown",
   "metadata": {},
   "source": [
    "###  Using HTML"
   ]
  },
  {
   "cell_type": "code",
   "execution_count": null,
   "metadata": {},
   "outputs": [],
   "source": [
    "st.markdown(\"<ul>\"\\\n",
    "    \"<li>Danilo Jr. Gubaton</li>\"\\\n",
    "    \"<li>Fili Emerson Chua</li>\"\n",
    "    \"<li>John Barrion</li>\"\\\n",
    "    \"<li>Justine Brian Santoalla </li>\"\\\n",
    "    \"<li>Rhey Ann Magcalas</li>\"\\\n",
    "    \"</ul>\", unsafe_allow_html=True)"
   ]
  },
  {
   "cell_type": "markdown",
   "metadata": {},
   "source": [
    "### User Input"
   ]
  },
  {
   "cell_type": "code",
   "execution_count": null,
   "metadata": {},
   "outputs": [],
   "source": [
    "st.subheader('Recommender Engine')\n",
    "st.write('-----------------------------')\n",
    "user_input = st.text_input(\"Song Title\")\n",
    "st.write(user_input)"
   ]
  },
  {
   "cell_type": "code",
   "execution_count": null,
   "metadata": {},
   "outputs": [],
   "source": [
    "# jupyter nbconvert --to script sample.ipynb"
   ]
  },
  {
   "cell_type": "markdown",
   "metadata": {},
   "source": [
    "### Running Streamlit Application\n",
    "##### streamlit run sample.py"
   ]
  },
  {
   "cell_type": "markdown",
   "metadata": {},
   "source": [
    "### Git Notes\n",
    "\n",
    "1. Git Add <File Names to Add> \n",
    "2. Git commit -m \"your message\"\n",
    "3. Git push origin master"
   ]
  },
  {
   "cell_type": "markdown",
   "metadata": {},
   "source": [
    "### Four Important Files\n",
    "\n",
    "1. python script\n",
    "2. Procfile\n",
    "3. requirements.txt\n",
    "4. setup.sh"
   ]
  },
  {
   "cell_type": "markdown",
   "metadata": {},
   "source": [
    "### Deployment Notes\n",
    "\n",
    "1. cd repository_name\n",
    "2. heroku login -i\n",
    "3. heroku create\n",
    "4. git push heroku branch_name\n",
    "5. heroku ps:scale web=1\n",
    "\n",
    "### For checking of errors\n",
    "1. Heroku logs --tail\n",
    "\n",
    "### Renaming URL\n",
    "1. heroku apps:rename new_url_name"
   ]
  }
 ],
 "metadata": {
  "kernelspec": {
   "display_name": "Python 3",
   "language": "python",
   "name": "python3"
  },
  "language_info": {
   "codemirror_mode": {
    "name": "ipython",
    "version": 3
   },
   "file_extension": ".py",
   "mimetype": "text/x-python",
   "name": "python",
   "nbconvert_exporter": "python",
   "pygments_lexer": "ipython3",
   "version": "3.8.6"
  }
 },
 "nbformat": 4,
 "nbformat_minor": 4
}
